{
 "cells": [
  {
   "cell_type": "code",
   "execution_count": 21,
   "metadata": {},
   "outputs": [],
   "source": [
    "import geopandas\n",
    "import seaborn\n",
    "#import contextily\n",
    "import matplotlib.pyplot as plt\n",
    "import pandas\n",
    "import numpy as np"
   ]
  },
  {
   "cell_type": "markdown",
   "metadata": {},
   "source": [
    "## Pandas Tutorial Exercises"
   ]
  },
  {
   "cell_type": "code",
   "execution_count": 22,
   "metadata": {},
   "outputs": [],
   "source": [
    "data = pandas.read_csv('data/CAINC1__ALL_STATES_1969_2017.csv', encoding='latin-1', \n",
    "                      skipfooter=3, engine='python')"
   ]
  },
  {
   "cell_type": "code",
   "execution_count": 23,
   "metadata": {},
   "outputs": [],
   "source": [
    "small = data[data.LineCode.isin( [2, 3] )]"
   ]
  },
  {
   "cell_type": "code",
   "execution_count": 24,
   "metadata": {},
   "outputs": [],
   "source": [
    "for year in range(1969, 2018):\n",
    "    small = small[small[str(year)] != \"(NA)\"] #drop all records with NA"
   ]
  },
  {
   "cell_type": "code",
   "execution_count": 25,
   "metadata": {},
   "outputs": [],
   "source": [
    "convert_dict = dict([(str(year), int) for year in range (1969, 2018)])"
   ]
  },
  {
   "cell_type": "code",
   "execution_count": 26,
   "metadata": {},
   "outputs": [],
   "source": [
    "small = small.astype(convert_dict)"
   ]
  },
  {
   "cell_type": "code",
   "execution_count": 27,
   "metadata": {},
   "outputs": [],
   "source": [
    "pc_inc = small[small.LineCode==3]"
   ]
  },
  {
   "cell_type": "markdown",
   "metadata": {},
   "source": [
    "### Exercise 1\n",
    "\n",
    "Identify the area with the lowest per-capita income each year."
   ]
  },
  {
   "cell_type": "code",
   "execution_count": 28,
   "metadata": {},
   "outputs": [
    {
     "name": "stdout",
     "output_type": "stream",
     "text": [
      "1969 1166 Loving, TX\n",
      "1970 1381 Starr, TX\n",
      "1971 1497 Dimmit, TX\n",
      "1972 1702 Zavala, TX\n",
      "1973 1971 Dimmit, TX\n",
      "1974 2067 Starr, TX\n",
      "1975 2215 Starr, TX\n",
      "1976 2326 Starr, TX\n",
      "1977 2355 Starr, TX\n",
      "1978 2654 Starr, TX\n",
      "1979 2928 Haskell, KS\n",
      "1980 2510 Slope, ND\n",
      "1981 3898 Starr, TX\n",
      "1982 4301 Starr, TX\n",
      "1983 4347 Starr, TX\n",
      "1984 4396 Starr, TX\n",
      "1985 4022 Petroleum, MT\n",
      "1986 4444 Starr, TX\n",
      "1987 4362 Starr, TX\n",
      "1988 4768 Starr, TX\n",
      "1989 5016 Starr, TX\n",
      "1990 5723 Starr, TX\n",
      "1991 6329 Starr, TX\n",
      "1992 7096 Starr, TX\n",
      "1993 7454 Starr, TX\n",
      "1994 7730 Starr, TX\n",
      "1995 7561 Loup, NE\n",
      "1996 4979 Arthur, NE\n",
      "1997 7108 Loup, NE\n",
      "1998 8331 Loup, NE\n",
      "1999 9350 Loup, NE\n",
      "2000 10257 Starr, TX\n",
      "2001 12442 Starr, TX\n",
      "2002 12810 Buffalo, SD\n",
      "2003 14280 Starr, TX\n",
      "2004 14478 Starr, TX\n",
      "2005 15418 Madison, ID\n",
      "2006 11610 Ziebach, SD\n",
      "2007 14405 Ziebach, SD\n",
      "2008 14756 Wheeler, GA\n",
      "2009 14615 Wheeler, GA\n",
      "2010 15032 Wheeler, GA\n",
      "2011 16045 Wheeler, GA\n",
      "2012 17270 Wheeler, GA\n",
      "2013 17564 Telfair, GA\n",
      "2014 14165 Issaquena, MS\n",
      "2015 13239 Issaquena, MS\n",
      "2016 17812 Issaquena, MS\n",
      "2017 11937 Issaquena, MS\n"
     ]
    }
   ],
   "source": [
    "for i in range(2017-1968):\n",
    "    year = 1969 + i\n",
    "    val = pc_inc[str(year)].min()\n",
    "    pc_inc[pc_inc[str(year)] == val]\n",
    "    print(year, val,  pc_inc[pc_inc[str(year)] == val][\"GeoName\"].item())"
   ]
  },
  {
   "cell_type": "markdown",
   "metadata": {},
   "source": [
    "### Exercise 2\n",
    "\n",
    "As a percentage of the minimum per-captia income, calculate the relative income gap between the extremes of the income distribution each year.\n",
    "    \n",
    "Identify the year with the maximum relative income gap."
   ]
  },
  {
   "cell_type": "code",
   "execution_count": 29,
   "metadata": {},
   "outputs": [
    {
     "name": "stdout",
     "output_type": "stream",
     "text": [
      "2017\n"
     ]
    }
   ],
   "source": [
    "relative_gap = []\n",
    "for i in range(2017-1968):\n",
    "    year = 1969 + i\n",
    "    val = pc_inc[str(year)].min()\n",
    "    val_max = pc_inc[str(year)].max()\n",
    "    rel_gap = val_max/val * 100\n",
    "    relative_gap.append(rel_gap)\n",
    "max_gap = max(relative_gap)\n",
    "\n",
    "for i in range(len(relative_gap)):\n",
    "    if (relative_gap[i] ==max_gap ):\n",
    "        print(i + 1969)"
   ]
  },
  {
   "cell_type": "markdown",
   "metadata": {},
   "source": [
    "## Visualization Exercise"
   ]
  },
  {
   "cell_type": "code",
   "execution_count": 30,
   "metadata": {},
   "outputs": [
    {
     "data": {
      "text/html": [
       "<div>\n",
       "<style scoped>\n",
       "    .dataframe tbody tr th:only-of-type {\n",
       "        vertical-align: middle;\n",
       "    }\n",
       "\n",
       "    .dataframe tbody tr th {\n",
       "        vertical-align: top;\n",
       "    }\n",
       "\n",
       "    .dataframe thead th {\n",
       "        text-align: right;\n",
       "    }\n",
       "</style>\n",
       "<table border=\"1\" class=\"dataframe\">\n",
       "  <thead>\n",
       "    <tr style=\"text-align: right;\">\n",
       "      <th></th>\n",
       "      <th>NAME</th>\n",
       "      <th>STATE_NAME</th>\n",
       "      <th>STATE_FIPS</th>\n",
       "      <th>CNTY_FIPS</th>\n",
       "      <th>FIPS</th>\n",
       "      <th>STFIPS</th>\n",
       "      <th>COFIPS</th>\n",
       "      <th>FIPSNO</th>\n",
       "      <th>SOUTH</th>\n",
       "      <th>HR60</th>\n",
       "      <th>...</th>\n",
       "      <th>BLK90</th>\n",
       "      <th>GI59</th>\n",
       "      <th>GI69</th>\n",
       "      <th>GI79</th>\n",
       "      <th>GI89</th>\n",
       "      <th>FH60</th>\n",
       "      <th>FH70</th>\n",
       "      <th>FH80</th>\n",
       "      <th>FH90</th>\n",
       "      <th>geometry</th>\n",
       "    </tr>\n",
       "  </thead>\n",
       "  <tbody>\n",
       "    <tr>\n",
       "      <th>0</th>\n",
       "      <td>Lipscomb</td>\n",
       "      <td>Texas</td>\n",
       "      <td>48</td>\n",
       "      <td>295</td>\n",
       "      <td>48295</td>\n",
       "      <td>48</td>\n",
       "      <td>295</td>\n",
       "      <td>48295</td>\n",
       "      <td>1</td>\n",
       "      <td>0.0</td>\n",
       "      <td>...</td>\n",
       "      <td>0.031817</td>\n",
       "      <td>0.286929</td>\n",
       "      <td>0.378219</td>\n",
       "      <td>0.407005</td>\n",
       "      <td>0.373005</td>\n",
       "      <td>6.724512</td>\n",
       "      <td>4.5</td>\n",
       "      <td>3.835360</td>\n",
       "      <td>6.093580</td>\n",
       "      <td>POLYGON ((-100.00687 36.49388, -100.00114 36.4...</td>\n",
       "    </tr>\n",
       "    <tr>\n",
       "      <th>1</th>\n",
       "      <td>Sherman</td>\n",
       "      <td>Texas</td>\n",
       "      <td>48</td>\n",
       "      <td>421</td>\n",
       "      <td>48421</td>\n",
       "      <td>48</td>\n",
       "      <td>421</td>\n",
       "      <td>48421</td>\n",
       "      <td>1</td>\n",
       "      <td>0.0</td>\n",
       "      <td>...</td>\n",
       "      <td>0.139958</td>\n",
       "      <td>0.288976</td>\n",
       "      <td>0.359377</td>\n",
       "      <td>0.415453</td>\n",
       "      <td>0.378041</td>\n",
       "      <td>5.665722</td>\n",
       "      <td>1.7</td>\n",
       "      <td>3.253796</td>\n",
       "      <td>3.869407</td>\n",
       "      <td>POLYGON ((-102.16757 36.05463, -102.16522 36.4...</td>\n",
       "    </tr>\n",
       "    <tr>\n",
       "      <th>2</th>\n",
       "      <td>Dallam</td>\n",
       "      <td>Texas</td>\n",
       "      <td>48</td>\n",
       "      <td>111</td>\n",
       "      <td>48111</td>\n",
       "      <td>48</td>\n",
       "      <td>111</td>\n",
       "      <td>48111</td>\n",
       "      <td>1</td>\n",
       "      <td>0.0</td>\n",
       "      <td>...</td>\n",
       "      <td>2.050906</td>\n",
       "      <td>0.331667</td>\n",
       "      <td>0.385996</td>\n",
       "      <td>0.370037</td>\n",
       "      <td>0.376015</td>\n",
       "      <td>7.546049</td>\n",
       "      <td>7.2</td>\n",
       "      <td>9.471366</td>\n",
       "      <td>14.231738</td>\n",
       "      <td>POLYGON ((-102.16757 36.05463, -103.02356 36.0...</td>\n",
       "    </tr>\n",
       "    <tr>\n",
       "      <th>3</th>\n",
       "      <td>Hansford</td>\n",
       "      <td>Texas</td>\n",
       "      <td>48</td>\n",
       "      <td>195</td>\n",
       "      <td>48195</td>\n",
       "      <td>48</td>\n",
       "      <td>195</td>\n",
       "      <td>48195</td>\n",
       "      <td>1</td>\n",
       "      <td>0.0</td>\n",
       "      <td>...</td>\n",
       "      <td>0.000000</td>\n",
       "      <td>0.253527</td>\n",
       "      <td>0.357813</td>\n",
       "      <td>0.393938</td>\n",
       "      <td>0.383924</td>\n",
       "      <td>7.591786</td>\n",
       "      <td>4.7</td>\n",
       "      <td>5.542986</td>\n",
       "      <td>7.125457</td>\n",
       "      <td>POLYGON ((-101.61950 36.05471, -101.62032 36.4...</td>\n",
       "    </tr>\n",
       "    <tr>\n",
       "      <th>4</th>\n",
       "      <td>Ochiltree</td>\n",
       "      <td>Texas</td>\n",
       "      <td>48</td>\n",
       "      <td>357</td>\n",
       "      <td>48357</td>\n",
       "      <td>48</td>\n",
       "      <td>357</td>\n",
       "      <td>48357</td>\n",
       "      <td>1</td>\n",
       "      <td>0.0</td>\n",
       "      <td>...</td>\n",
       "      <td>0.021911</td>\n",
       "      <td>0.236998</td>\n",
       "      <td>0.352940</td>\n",
       "      <td>0.343949</td>\n",
       "      <td>0.374461</td>\n",
       "      <td>5.172414</td>\n",
       "      <td>4.0</td>\n",
       "      <td>4.758392</td>\n",
       "      <td>9.159159</td>\n",
       "      <td>POLYGON ((-101.08231 36.05626, -101.08967 36.4...</td>\n",
       "    </tr>\n",
       "  </tbody>\n",
       "</table>\n",
       "<p>5 rows × 70 columns</p>\n",
       "</div>"
      ],
      "text/plain": [
       "        NAME STATE_NAME STATE_FIPS CNTY_FIPS   FIPS  STFIPS  COFIPS  FIPSNO  \\\n",
       "0   Lipscomb      Texas         48       295  48295      48     295   48295   \n",
       "1    Sherman      Texas         48       421  48421      48     421   48421   \n",
       "2     Dallam      Texas         48       111  48111      48     111   48111   \n",
       "3   Hansford      Texas         48       195  48195      48     195   48195   \n",
       "4  Ochiltree      Texas         48       357  48357      48     357   48357   \n",
       "\n",
       "   SOUTH  HR60  ...     BLK90      GI59      GI69      GI79      GI89  \\\n",
       "0      1   0.0  ...  0.031817  0.286929  0.378219  0.407005  0.373005   \n",
       "1      1   0.0  ...  0.139958  0.288976  0.359377  0.415453  0.378041   \n",
       "2      1   0.0  ...  2.050906  0.331667  0.385996  0.370037  0.376015   \n",
       "3      1   0.0  ...  0.000000  0.253527  0.357813  0.393938  0.383924   \n",
       "4      1   0.0  ...  0.021911  0.236998  0.352940  0.343949  0.374461   \n",
       "\n",
       "       FH60  FH70      FH80       FH90  \\\n",
       "0  6.724512   4.5  3.835360   6.093580   \n",
       "1  5.665722   1.7  3.253796   3.869407   \n",
       "2  7.546049   7.2  9.471366  14.231738   \n",
       "3  7.591786   4.7  5.542986   7.125457   \n",
       "4  5.172414   4.0  4.758392   9.159159   \n",
       "\n",
       "                                            geometry  \n",
       "0  POLYGON ((-100.00687 36.49388, -100.00114 36.4...  \n",
       "1  POLYGON ((-102.16757 36.05463, -102.16522 36.4...  \n",
       "2  POLYGON ((-102.16757 36.05463, -103.02356 36.0...  \n",
       "3  POLYGON ((-101.61950 36.05471, -101.62032 36.4...  \n",
       "4  POLYGON ((-101.08231 36.05626, -101.08967 36.4...  \n",
       "\n",
       "[5 rows x 70 columns]"
      ]
     },
     "execution_count": 30,
     "metadata": {},
     "output_type": "execute_result"
    }
   ],
   "source": [
    "db = geopandas.read_file('data/texas.shp')\n",
    "db.head()"
   ]
  },
  {
   "cell_type": "code",
   "execution_count": 31,
   "metadata": {},
   "outputs": [],
   "source": [
    "p90max = db.PO90.max()"
   ]
  },
  {
   "cell_type": "code",
   "execution_count": 32,
   "metadata": {},
   "outputs": [],
   "source": [
    "width = int(p90max/3)+2\n",
    "db['pop_cats'] = pandas.cut(db.PO90, [0, 5000, 100000, p90max])"
   ]
  },
  {
   "cell_type": "code",
   "execution_count": 35,
   "metadata": {},
   "outputs": [
    {
     "data": {
      "image/png": "[encoded data removed]",
      "text/plain": [
       "<Figure size 720x288 with 2 Axes>"
      ]
     },
     "metadata": {
      "needs_background": "light"
     },
     "output_type": "display_data"
    }
   ],
   "source": [
    "## Created Visualization\n",
    "\n",
    "f, axs = plt.subplots(1, 2, figsize=(10, 4))\n",
    "\n",
    "db[['GI89', 'HR90']].plot.scatter('GI89', 'HR90', ax = axs[0])\n",
    "# Second axis\n",
    "seaborn.boxplot(x=\"pop_cats\",\n",
    "                y=\"HR90\",\n",
    "                data=db, ax=axs[1])\n",
    "\n",
    "f.suptitle(\"Combined plots using both matplotlib and seaborn\")\n",
    "plt.savefig('figure.pdf', dpi=300)"
   ]
  },
  {
   "cell_type": "markdown",
   "metadata": {},
   "source": [
    "## Response to \"GeoPandas\" Tutorial"
   ]
  },
  {
   "cell_type": "markdown",
   "metadata": {},
   "source": [
    "### How is data stored in R versus pandas/Python?\n",
    "*In R, data is typically stored in a data.frame structure which is a list of vector variables, where the vectors all have the same length. In pandas, data is similarly stored where data is stored within DataFrames where the DataFrame is a series of one dimensional numpy arrays.*\n",
    "\n",
    "### How is spatial data stored in sf/R versus geopandas/Python?\n",
    "*In sf, spatial data is stored in a dataframe structure with a single row for each feature. Similarly, with geopandas, the DataFrame structure set forth by pandas is extended to contain spatial data by supporting the geom type.*\n",
    "\n",
    "### Identify 3 more differences you uncovered in syntax logic or computational processing. Consider: filtering/subsetting data, aggregations, group by, merges, etc.\n",
    "* Difference in accessing particular columns. When using R, we able to access a column using the following methods: table\\[column\\] or table$column, in pandas we would do the same as follows: table[column] or table.column\n",
    "* In pandas it is common for the following format: df.funct() while in R, funct(df) more common. (Ex: Differences in filtering: In pandas, df.loc[df['col'] == val] or df.filter(cond) while in R, filter(df, cond))\n",
    "* In R, to group typically have to use the following df \\%>\\% group_by(col) \\%>\\% funct(), while pandas group by can be done in the following way: df.groupby(col).funct()"
   ]
  },
  {
   "cell_type": "markdown",
   "metadata": {},
   "source": [
    "## Trouble Shooting Log:\n",
    "*When completing this lab, I ran into minimal issues. The main issues arose from my computer now having certain packages installed such as pandas. To install this using Anaconda, I used the following code in terminal: conda install pandas.*"
   ]
  }
 ],
 "metadata": {
  "kernelspec": {
   "display_name": "Python 3",
   "language": "python",
   "name": "python3"
  },
  "language_info": {
   "codemirror_mode": {
    "name": "ipython",
    "version": 3
   },
   "file_extension": ".py",
   "mimetype": "text/x-python",
   "name": "python",
   "nbconvert_exporter": "python",
   "pygments_lexer": "ipython3",
   "version": "3.6.6"
  }
 },
 "nbformat": 4,
 "nbformat_minor": 4
}
